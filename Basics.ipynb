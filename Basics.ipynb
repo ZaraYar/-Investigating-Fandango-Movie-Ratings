{
 "cells": [
  {
   "cell_type": "code",
   "execution_count": null,
   "metadata": {
    "collapsed": false
   },
   "outputs": [],
   "source": [
    "birthList =  open(\"US_births_1994-2003_CDC_NCHS.csv\").read().split(\"\\n\")\n",
    "\n",
    "birthList[0:10]\n",
    "\n"
   ]
  },
  {
   "cell_type": "code",
   "execution_count": null,
   "metadata": {
    "collapsed": true
   },
   "outputs": [],
   "source": [
    "def read_csv(filename):\n",
    "    openFile = open(filename, \"r\")\n",
    "    stringFile = openFile.read()\n",
    "    string_list = stringFile.split(\"\\n\")[1:]\n",
    "    final_list = []\n",
    "    \n",
    "    \n",
    "    for ln1 in string_list:\n",
    "        string_fields = ln1.split(\",\")\n",
    "        int_fields = []\n",
    "        for each in string_fields:\n",
    "            int_fields.append(int(each))\n",
    "        final_list.append(int_fields)    \n",
    "           \n",
    "    return final_list\n",
    "        \n",
    "        \n",
    "    \n",
    "    "
   ]
  },
  {
   "cell_type": "code",
   "execution_count": null,
   "metadata": {
    "collapsed": false
   },
   "outputs": [],
   "source": [
    "cdc_list = read_csv(\"US_births_1994-2003_CDC_NCHS.csv\")\n",
    "cdc_list[0:10]"
   ]
  },
  {
   "cell_type": "code",
   "execution_count": null,
   "metadata": {
    "collapsed": false
   },
   "outputs": [],
   "source": [
    "def month_births(data_list):\n",
    "    births_per_month = {}\n",
    "    for each in data_list:\n",
    "        if each[1] in births_per_month:\n",
    "            births_per_month[each[1]] = births_per_month[each[1]] + each[4]\n",
    "        else:\n",
    "            births_per_month[each[1]] = each[4]\n",
    "    return births_per_month \n",
    "cdc_month_births = month_births(cdc_list)\n",
    "cdc_month_births\n",
    "\n",
    "            "
   ]
  },
  {
   "cell_type": "code",
   "execution_count": null,
   "metadata": {
    "collapsed": false
   },
   "outputs": [],
   "source": [
    "def dow_births(data_list):\n",
    "    births_per_day = {}\n",
    "    for each in data_list:\n",
    "        if each[3] in births_per_day:\n",
    "            births_per_day[each[3]] = births_per_day[each[3]] + each[4]\n",
    "        else:\n",
    "            births_per_day[each[3]] = each[4] \n",
    "    return births_per_day\n",
    "cdc_day_births = dow_births(cdc_list)\n",
    "cdc_day_births\n",
    "    "
   ]
  },
  {
   "cell_type": "code",
   "execution_count": null,
   "metadata": {
    "collapsed": false
   },
   "outputs": [],
   "source": [
    "def calc_counts(data, column):\n",
    "    myDic={}\n",
    "    for each in data:\n",
    "        if each[column] in myDic:\n",
    "            myDic[each[column]] = myDic[each[column]] + each[4]\n",
    "        else:\n",
    "            myDic[each[column]] = each[4]\n",
    "    return myDic\n",
    "cdc_year_births = calc_counts(cdc_list,0)\n",
    "cdc_month_births = calc_counts(cdc_list,1)\n",
    "cdc_dom_births = calc_counts(cdc_list,2)\n",
    "cdc_dow_births = calc_counts(cdc_list,3)\n",
    "\n",
    "cdc_year_births\n",
    "       "
   ]
  },
  {
   "cell_type": "code",
   "execution_count": null,
   "metadata": {
    "collapsed": true
   },
   "outputs": [],
   "source": [
    "def minValue(mydic):\n",
    "    for"
   ]
  },
  {
   "cell_type": "code",
   "execution_count": null,
   "metadata": {
    "collapsed": true
   },
   "outputs": [],
   "source": []
  }
 ],
 "metadata": {
  "anaconda-cloud": {},
  "kernelspec": {
   "display_name": "Python 3",
   "language": "python",
   "name": "python3"
  },
  "language_info": {
   "codemirror_mode": {
    "name": "ipython",
    "version": 3
   },
   "file_extension": ".py",
   "mimetype": "text/x-python",
   "name": "python",
   "nbconvert_exporter": "python",
   "pygments_lexer": "ipython3",
   "version": "3.4.3"
  }
 },
 "nbformat": 4,
 "nbformat_minor": 1
}
